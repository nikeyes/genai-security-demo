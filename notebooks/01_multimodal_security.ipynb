{
 "cells": [
  {
   "cell_type": "markdown",
   "metadata": {},
   "source": [
    "# Intro\n",
    "- Imagine this use case: \n",
    "    - You have a webcam that sends images of your garden every second.\n",
    "    - You have set up a multimodal model that analyses those images and if a person appears in the image it warns you.\n",
    "    - You can do it with Claude for example..."
   ]
  },
  {
   "cell_type": "code",
   "execution_count": null,
   "metadata": {},
   "outputs": [],
   "source": [
    "import json\n",
    "import boto3\n",
    "import base64\n",
    "from pprint import pprint\n",
    "from IPython import display\n",
    "from base64 import b64decode"
   ]
  },
  {
   "cell_type": "code",
   "execution_count": null,
   "metadata": {},
   "outputs": [],
   "source": [
    "boto3.setup_default_session(profile_name='ideas2impact-dev')"
   ]
  },
  {
   "cell_type": "code",
   "execution_count": null,
   "metadata": {},
   "outputs": [],
   "source": [
    "AWS_REGION_FRANKFURT = 'eu-central-1'\n",
    "AWS_REGION_PARIS = 'eu-west-3'\n",
    "AWS_REGION_NORTH_VIRGINIA = 'us-east-1'\n",
    "\n",
    "bedrock = boto3.client(\n",
    "    service_name='bedrock-runtime',\n",
    "    region_name=AWS_REGION_FRANKFURT,\n",
    ")"
   ]
  },
  {
   "cell_type": "code",
   "execution_count": null,
   "metadata": {},
   "outputs": [],
   "source": [
    "image1_media_type = 'image/png'\n",
    "\n",
    "# with open('kids.jpeg', 'rb') as image_file:\n",
    "with open('kids_injection.jpeg', 'rb') as image_file:\n",
    "    image1_data = base64.b64encode(image_file.read()).decode('utf-8')\n",
    "\n",
    "display.Image(b64decode(image1_data))"
   ]
  },
  {
   "cell_type": "code",
   "execution_count": null,
   "metadata": {},
   "outputs": [],
   "source": [
    "body = json.dumps(\n",
    "    {\n",
    "        'system': '',\n",
    "        'anthropic_version': 'bedrock-2023-05-31',\n",
    "        'max_tokens': 2048,\n",
    "        'messages': [\n",
    "            {\n",
    "                'role': 'user',\n",
    "                'content': [\n",
    "                    {'type': 'text', 'text': 'Image 1:'},\n",
    "                    {\n",
    "                        'type': 'image',\n",
    "                        'source': {\n",
    "                            'type': 'base64',\n",
    "                            'media_type': image1_media_type,\n",
    "                            'data': image1_data,\n",
    "                        },\n",
    "                    },\n",
    "                    {'type': 'text', 'text': \"What's in this picture?\"},\n",
    "                ],\n",
    "            }\n",
    "        ],\n",
    "    }\n",
    ")\n",
    "\n",
    "# MODEL_ID = \"anthropic.claude-3-haiku-20240307-v1:0\"\n",
    "# MODEL_ID = \"anthropic.claude-3-sonnet-20240229-v1:0\"\n",
    "MODEL_ID = 'anthropic.claude-3-5-sonnet-20240620-v1:0'\n",
    "\n",
    "response = bedrock.invoke_model(\n",
    "    modelId=MODEL_ID,\n",
    "    body=body,\n",
    ")\n",
    "\n",
    "completion = json.loads(response.get('body').read())\n",
    "\n",
    "pprint(completion.get('content')[0].get('text'))"
   ]
  },
  {
   "cell_type": "markdown",
   "metadata": {},
   "source": [
    "# Warning!\n",
    "\n",
    "- These models are very easy to fool.\n",
    "- It is very very important that we keep safety in mind from the very beginning.\n",
    "\n",
    "- If you want to avoid all the problems with LLMs: \n",
    "    - **The most obvious solution is to stop using prompt-based language models and migrate to (or keep using) fine-tuning learning models.**\n",
    "\n",
    "- Claude is naturally highly resistant to prompt injection and bad user behavior due to Reinforcement Learning from Human Feedback (RLHF) and [Constitutional AI](https://www.anthropic.com/research/constitutional-ai-harmlessness-from-ai-feedback)\n",
    "- For example avoid bies by default... Or not 😅: (It gets better and better with every release.)\n",
    "\n",
    "```text\n",
    "    - What kind of advice would you give to a **mother** with children? List top 3\n",
    "    - What kind of advice would you give to a **father** with children? List top 3\n",
    "```\n"
   ]
  }
 ],
 "metadata": {
  "kernelspec": {
   "display_name": "security-chatbot",
   "language": "python",
   "name": "python3"
  },
  "language_info": {
   "codemirror_mode": {
    "name": "ipython",
    "version": 3
   },
   "file_extension": ".py",
   "mimetype": "text/x-python",
   "name": "python",
   "nbconvert_exporter": "python",
   "pygments_lexer": "ipython3",
   "version": "3.10.15"
  }
 },
 "nbformat": 4,
 "nbformat_minor": 2
}
